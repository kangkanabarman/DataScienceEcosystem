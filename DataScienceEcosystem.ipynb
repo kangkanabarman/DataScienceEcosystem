{
 "cells": [
  {
   "cell_type": "markdown",
   "id": "396abe87-7358-4650-8ad0-0f2143045ca8",
   "metadata": {},
   "source": [
    "# Data Science Tools and Ecosystem"
   ]
  },
  {
   "cell_type": "markdown",
   "id": "5ee01e09-eb49-4b10-bddb-ae5e254afb4d",
   "metadata": {},
   "source": [
    "In this notebook, Data Science Tools and Ecosystem are summarized"
   ]
  },
  {
   "cell_type": "markdown",
   "id": "07cd78f1-b75a-4734-8abb-060d325df8fe",
   "metadata": {},
   "source": [
    "Some of the popular languages that Data Scientists use are:\n",
    "1. Python\n",
    "2. R\n",
    "3. Java\n",
    "4. C++"
   ]
  },
  {
   "cell_type": "markdown",
   "id": "7381b9b4-89ed-411d-8d1c-421909f17dac",
   "metadata": {},
   "source": [
    "Some of the commonly used libraries used by Data Scientists include:\n",
    "\n",
    "1. Pandas\n",
    "2. SciPy\n",
    "3. MatplotLib\n",
    "4. NumPy"
   ]
  },
  {
   "cell_type": "markdown",
   "id": "ca9ada9f-3126-4cd0-af31-fcef293ab3b1",
   "metadata": {},
   "source": [
    "| Data Science Tools |\n",
    "| ------------------ |\n",
    "| MongoDB |\n",
    "| Apache SparkSQL |\n",
    "| TensorFlow |"
   ]
  },
  {
   "cell_type": "markdown",
   "id": "189ce05c-51fc-472b-9d8c-2ec891561ace",
   "metadata": {},
   "source": [
    "### Below are a few examples of evaluating arithmetic expressions in Python"
   ]
  },
  {
   "cell_type": "code",
   "execution_count": 12,
   "id": "e61b5fb3-7af8-4ceb-8f7b-4016fd01d96d",
   "metadata": {},
   "outputs": [
    {
     "data": {
      "text/plain": [
       "17"
      ]
     },
     "execution_count": 12,
     "metadata": {},
     "output_type": "execute_result"
    }
   ],
   "source": [
    "## This a simple arithmetic expression to mutiply then add integers\n",
    "(3*4)+5"
   ]
  },
  {
   "cell_type": "code",
   "execution_count": 13,
   "id": "a71b5518-dada-4648-901d-07d6456c25df",
   "metadata": {},
   "outputs": [
    {
     "data": {
      "text/plain": [
       "3.3333333333333335"
      ]
     },
     "execution_count": 13,
     "metadata": {},
     "output_type": "execute_result"
    }
   ],
   "source": [
    "## This will convert 200 minutes to hours by diving by 60\n",
    "200/60"
   ]
  },
  {
   "cell_type": "markdown",
   "id": "f8b5a9b7-537c-47bd-8b38-66b96ec765cc",
   "metadata": {},
   "source": [
    "__Objective:__\n",
    "* List popular languages for Data Science\n",
    "* List of popular libraries in Data Science\n",
    "* List of comments"
   ]
  },
  {
   "cell_type": "code",
   "execution_count": null,
   "id": "fe039f12-5c9a-416b-8428-033b1ffb1551",
   "metadata": {},
   "outputs": [],
   "source": [
    "## Author\n",
    "Kangkana Barman"
   ]
  }
 ],
 "metadata": {
  "kernelspec": {
   "display_name": "Python 3 (ipykernel)",
   "language": "python",
   "name": "python3"
  },
  "language_info": {
   "codemirror_mode": {
    "name": "ipython",
    "version": 3
   },
   "file_extension": ".py",
   "mimetype": "text/x-python",
   "name": "python",
   "nbconvert_exporter": "python",
   "pygments_lexer": "ipython3",
   "version": "3.12.7"
  }
 },
 "nbformat": 4,
 "nbformat_minor": 5
}
